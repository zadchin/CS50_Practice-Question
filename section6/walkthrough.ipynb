{
 "cells": [
  {
   "cell_type": "markdown",
   "metadata": {},
   "source": [
    "## CS50 Lab 6 Python Walkthrough\n",
    "\n",
    "Hi! In this lab, we will walkthrough some of the basic we need to know for this week regarding Python!\n",
    "\n",
    "We also using a Python Jupyter Notebook (indicated by the .ipynb), which allows us to run through each code block by block instead of the whole .py file, but the syntax and the style should be similar!\n",
    "\n",
    "Transitioning between C and Python might be a tough learning curve, seeing that we already coded in C for 5 weeks! Most important things to keep in mind is to always seek out for help! The CS50 team and I are definitely happy to help out!\n",
    "\n",
    "Happy Learning! \n",
    "\n",
    "Zad"
   ]
  },
  {
   "cell_type": "markdown",
   "metadata": {},
   "source": [
    "##### A short note about commenting in Python\n",
    "\n",
    "Below are some example of line comments and block comments. A useful shortcut in VS Code for commenting: \n",
    "1. Highlight the lines you want to comment\n",
    "2. \"Cmd\" + \"/\" on Mac"
   ]
  },
  {
   "cell_type": "code",
   "execution_count": 20,
   "metadata": {},
   "outputs": [
    {
     "data": {
      "text/plain": [
       "'\\nThis is how we block comment. \\nBlah blah blah....\\n'"
      ]
     },
     "execution_count": 20,
     "metadata": {},
     "output_type": "execute_result"
    }
   ],
   "source": [
    "# commenting out a line\n",
    "# print(\"Hello, world!\")\n",
    "\n",
    "# block comment \n",
    "\n",
    "'''\n",
    "This is how we block comment. \n",
    "Blah blah blah....\n",
    "'''\n"
   ]
  },
  {
   "cell_type": "markdown",
   "metadata": {},
   "source": [
    "## Syntax & Printing\n",
    "\n",
    "The most important thing transitioning from C to Python is:\n",
    "1. You do not need to cast type for variable (ie: do not need to int x;), except for certain case you are required to cast.\n",
    "2. Do not need to put \";\", put remember IDENDATION is key!\n",
    "3. For print function: Is print(\"hello\") instead of \"printf\"!\n",
    "4. There is no ++ operators in Python, instead you need to call +=1"
   ]
  },
  {
   "cell_type": "code",
   "execution_count": 2,
   "metadata": {},
   "outputs": [
    {
     "name": "stdout",
     "output_type": "stream",
     "text": [
      "2\n",
      "2\n",
      "Alice\n",
      "4\n",
      "6\n"
     ]
    }
   ],
   "source": [
    "# to assign a value to a variable, use the single \"=\" sign.\n",
    "x = 1\n",
    "y = 1\n",
    "name = \"Alice\"\n",
    "\n",
    "# to change and then update a variable, we have two equivalent methods:\n",
    "\n",
    "x = x + 1 # this is the universal way\n",
    "## y ++ # this is the C way, but it doesn't work in Python\n",
    "y += 1 # this is the Python abbreviated way. you may also swap \"+\" with -,*,/,//,**, etc.\n",
    "\n",
    "# let's check the values of x and y after the operations\n",
    "print(x)\n",
    "print(y)\n",
    "print(name)\n",
    "\n",
    "# you can also assign multiple variables in one line\n",
    "a, b = 2+2, 3+3\n",
    "print(a)\n",
    "print(b)"
   ]
  },
  {
   "cell_type": "code",
   "execution_count": 3,
   "metadata": {},
   "outputs": [
    {
     "name": "stdout",
     "output_type": "stream",
     "text": [
      "2\n",
      "0\n",
      "15\n",
      "8\n",
      "3.5\n",
      "3\n",
      "4\n"
     ]
    }
   ],
   "source": [
    "# addition\n",
    "print(1 + 1) # 2 (note how we can start a line comment after some code, too!)\n",
    "\n",
    "# subtraction\n",
    "print(1 - 1) # 0\n",
    "\n",
    "# multiplication\n",
    "print(3 * 5) # 15\n",
    "\n",
    "# exponentiation (i.e., 2 ** 3 = 2 * 2 * 2 = 8)\n",
    "print(2 ** 3) # 8\n",
    "\n",
    "# division \n",
    "print(7 / 2) # 3.5\n",
    "\n",
    "# modular division - truncates the fractional part\n",
    "print(7 // 2) # 3\n",
    "\n",
    "# modulo arithmetic - 14 mod 5 is congruent to 4 mod 5\n",
    "print(14 % 5) # 4"
   ]
  },
  {
   "cell_type": "code",
   "execution_count": 4,
   "metadata": {},
   "outputs": [
    {
     "name": "stdout",
     "output_type": "stream",
     "text": [
      "True\n",
      "False\n",
      "False\n",
      "True\n",
      "True\n",
      "True\n",
      "True\n",
      "True\n"
     ]
    }
   ],
   "source": [
    "# let's create some variables\n",
    "x = 5\n",
    "y = 7\n",
    "\n",
    "# checking equality: \"==\". Note the double-equal-signs.\n",
    "print(x == 5) # True\n",
    "print(x == y) # False\n",
    "\n",
    "# checking inequality: \"!=\"\n",
    "print(x != 5) # False\n",
    "print(x != y) # True\n",
    "\n",
    "# checking greater than/less than\n",
    "print(x < y) # True\n",
    "print(x <= 5) # True\n",
    "print(y > x) # True\n",
    "print(y >= 5) # True"
   ]
  },
  {
   "cell_type": "code",
   "execution_count": 25,
   "metadata": {},
   "outputs": [
    {
     "name": "stdout",
     "output_type": "stream",
     "text": [
      "True\n",
      "True\n",
      "True\n"
     ]
    }
   ],
   "source": [
    "x = 5\n",
    "y = 6\n",
    "z = 7\n",
    "\n",
    "print(x < y < z) # True\n",
    "print((x < y) and (y < z)) # True\n",
    "print((x < y) or (y < z)) # True"
   ]
  },
  {
   "cell_type": "code",
   "execution_count": 24,
   "metadata": {},
   "outputs": [
    {
     "name": "stdout",
     "output_type": "stream",
     "text": [
      "<class 'int'>\n",
      "<class 'str'>\n",
      "100.0\n",
      "False\n",
      "True\n",
      "3\n",
      "number of words in list:  4\n",
      "number of words in sentence:  6\n"
     ]
    }
   ],
   "source": [
    "# suppose we create a variable and assign it a value\n",
    "x = 100\n",
    "\n",
    "name = \"Zad\"\n",
    "\n",
    "# checking types\n",
    "print(type(x)) # x currently is an 'int' (i.e., integer)\n",
    "print(type(name)) # name is currently an 'str' (i.e., string)\n",
    "\n",
    "# converting between types\n",
    "x_as_string = str(x)\n",
    "x_as_float = float(x) # we can convert back to an int using int(...)\n",
    "\n",
    "# notice how 100 became 100.0?\n",
    "print(x_as_float)\n",
    "\n",
    "# isinstance tells us whether a variable/object is of a particular class/type -- returns True or False\n",
    "print(isinstance(x, str)) # should be False\n",
    "print(isinstance(x, int)) # should be True\n",
    "\n",
    "## print out the length of a word\n",
    "print(len(name))\n",
    "\n",
    "list_of_Words = [\"Zad\", \"is\", \"the\", \"best\"]\n",
    "print(\"number of words in list: \", len(list_of_Words))\n",
    "\n",
    "## print out the number of words in a sentence.\n",
    "sentence = \"CS50 is the best class ever!\"\n",
    "print(\"number of words in sentence: \", len(sentence.split()))"
   ]
  },
  {
   "cell_type": "markdown",
   "metadata": {},
   "source": [
    "## String"
   ]
  },
  {
   "cell_type": "code",
   "execution_count": 7,
   "metadata": {},
   "outputs": [
    {
     "name": "stdout",
     "output_type": "stream",
     "text": [
      "Hello\n",
      "e\n",
      "llo\n",
      "Hello\n",
      "llo, World!\n",
      "!\n"
     ]
    }
   ],
   "source": [
    "a = \"Hello\"\n",
    "print(a)\n",
    "\n",
    "## Strings are array\n",
    "a = \"Hello, World!\"\n",
    "print(a[1])\n",
    "\n",
    "b = \"Hello, World!\"\n",
    "print(b[2:5])\n",
    "\n",
    "## from the start:\n",
    "print(b[:5])\n",
    "\n",
    "## to the end:\n",
    "print(b[2:])\n",
    "\n",
    "## negative indexing\n",
    "print(b[-1:])"
   ]
  },
  {
   "cell_type": "code",
   "execution_count": 8,
   "metadata": {},
   "outputs": [
    {
     "name": "stdout",
     "output_type": "stream",
     "text": [
      "True\n",
      "13\n",
      "b\n",
      "a\n",
      "n\n",
      "a\n",
      "n\n",
      "a\n"
     ]
    }
   ],
   "source": [
    "# functions of strings\n",
    "\n",
    "## check the length of a string\n",
    "a = \"Hello, World!\"\n",
    "print(len(a))"
   ]
  },
  {
   "cell_type": "markdown",
   "metadata": {},
   "source": [
    "## If-else statement"
   ]
  },
  {
   "cell_type": "code",
   "execution_count": 28,
   "metadata": {},
   "outputs": [
    {
     "name": "stdout",
     "output_type": "stream",
     "text": [
      "x is greater than 5.\n"
     ]
    }
   ],
   "source": [
    "# a standard if-statement\n",
    "x = 10\n",
    "\n",
    "if x > 5:\n",
    "    print(\"x is greater than 5.\")"
   ]
  },
  {
   "cell_type": "code",
   "execution_count": 7,
   "metadata": {},
   "outputs": [
    {
     "name": "stdout",
     "output_type": "stream",
     "text": [
      "x is not less than 5.\n"
     ]
    }
   ],
   "source": [
    "# an if-else statement\n",
    "x = 10\n",
    "\n",
    "if x < 5:\n",
    "    print(\"x is less than 5.\")\n",
    "else:\n",
    "    print(\"x is not less than 5.\")"
   ]
  },
  {
   "cell_type": "code",
   "execution_count": 8,
   "metadata": {},
   "outputs": [
    {
     "name": "stdout",
     "output_type": "stream",
     "text": [
      "x is equal to 5.\n"
     ]
    }
   ],
   "source": [
    "# an if-elif-else statement\n",
    "x = 5\n",
    "\n",
    "if x <5:\n",
    "    print(\"x is less than 5.\")\n",
    "\n",
    "# note the syntax here!\n",
    "elif x == 5:\n",
    "    print(\"x is equal to 5.\")\n",
    "\n",
    "# logically, the \"else\" handles all unspecified cases.\n",
    "else:\n",
    "    print(\"x is greater than 5.\")"
   ]
  },
  {
   "cell_type": "markdown",
   "metadata": {},
   "source": [
    "Python is a very reader-friendly language. We can directly use keywords such as \"and\" and \"or\" to help create more complicated conditional statements!"
   ]
  },
  {
   "cell_type": "code",
   "execution_count": 9,
   "metadata": {},
   "outputs": [
    {
     "name": "stdout",
     "output_type": "stream",
     "text": [
      "Both expressions are false.\n"
     ]
    }
   ],
   "source": [
    "# we can also create more complex conditional statements using 'and'\n",
    "if (5 < 6) and (6 > 7):\n",
    "    print(\"5 is less than 6, and 6 is greater than 7.\")\n",
    "else:\n",
    "    print(\"Both expressions are false.\")"
   ]
  },
  {
   "cell_type": "code",
   "execution_count": 10,
   "metadata": {},
   "outputs": [
    {
     "name": "stdout",
     "output_type": "stream",
     "text": [
      "At least one of the expressions is true.\n"
     ]
    }
   ],
   "source": [
    "# ... we can also use 'or'\n",
    "if (5 < 6) or (6 > 7):\n",
    "    print(\"At least one of the expressions is true.\")\n",
    "else:\n",
    "    print(\"Both expressions are false.\")"
   ]
  },
  {
   "cell_type": "code",
   "execution_count": 11,
   "metadata": {},
   "outputs": [
    {
     "name": "stdout",
     "output_type": "stream",
     "text": [
      "x is less than 11.\n",
      "x is less than 11.\n"
     ]
    }
   ],
   "source": [
    "# we can also abbreviate/shorten our code ...\n",
    "x = 10\n",
    "\n",
    "# ... like this (it reads relatively grammatically correctly!)\n",
    "print(\"x is less than 11.\") if (x < 11)  else print(\"x is not less than 11.\")\n",
    "\n",
    "if x<11:\n",
    "    print(\"x is less than 11.\")\n",
    "else:\n",
    "    print(\"x is not less than 11.\")"
   ]
  },
  {
   "cell_type": "code",
   "execution_count": null,
   "metadata": {},
   "outputs": [],
   "source": [
    "## check if a word is in a sentence\n",
    "txt = \"The best things in life are free!\"\n",
    "print(\"free\" in txt)"
   ]
  },
  {
   "cell_type": "markdown",
   "metadata": {},
   "source": [
    "## Loops in Python\n",
    "\n",
    "We use a for-loop when we know how many iterations we want to perform (e.g., iterating through every single value in a list, or every number in a range(...) sequence). But what if we don't know how many iterations we want to perform, but rather want to stop when a certain condition is met? Then we use a while loop."
   ]
  },
  {
   "cell_type": "code",
   "execution_count": 12,
   "metadata": {},
   "outputs": [
    {
     "name": "stdout",
     "output_type": "stream",
     "text": [
      "2\n",
      "4\n",
      "6\n",
      "Zad\n",
      "---------------------------------------------------------------------------\n",
      "2\n",
      "4\n",
      "6\n",
      "Zad\n"
     ]
    }
   ],
   "source": [
    "# in Python, we can iterate directly through the elements in a list/other iterable datatype\n",
    "list1 = [2, 4, 6, 'Zad']\n",
    "\n",
    "# this tells Python to iterate over every element in list1\n",
    "for val in list1:\n",
    "    \n",
    "    # note how we directly reference 'val'\n",
    "    print(val)\n",
    "\n",
    "print(\"---\"*25)\n",
    "\n",
    "## we can also iterate over the length of the list\n",
    "for i in range(len(list1)):\n",
    "    print(list1[i])"
   ]
  },
  {
   "cell_type": "code",
   "execution_count": null,
   "metadata": {},
   "outputs": [],
   "source": [
    "## looping through strings\n",
    "for x in \"banana\":\n",
    "  print(x)"
   ]
  },
  {
   "cell_type": "code",
   "execution_count": 32,
   "metadata": {},
   "outputs": [
    {
     "name": "stdout",
     "output_type": "stream",
     "text": [
      "4\n",
      "6\n",
      "8\n",
      "10\n",
      "--------------------------------------------------\n",
      "4\n",
      "5\n",
      "6\n",
      "7\n",
      "8\n",
      "9\n",
      "10\n",
      "0.1\n",
      "0.2\n",
      "0.3\n",
      "0.4\n",
      "0.5\n",
      "0.6\n",
      "0.7\n",
      "0.8\n",
      "0.9\n",
      "1.0\n"
     ]
    }
   ],
   "source": [
    "# suppose we want to print out the integers from 4 to 10, inclusive. Written out <fully>, we have the following:\n",
    "\n",
    "'''\n",
    "1. range(start, stop, step) - this is the format of the range function.\n",
    "2. First, start=4 (our starting value, inclusive)\n",
    "3. HOWEVER, stop=11 (our ending value, EXCLUSIVE -- NOT included!)\n",
    "4. Finally, step=2 (because we are counting by 1s) -- if we wanted to count by 2s, then step=2\n",
    "'''\n",
    "# again, note that I set the second input to be 11 -- the stop position itself is NOT included!\n",
    "for i in range(4, 11, 2):\n",
    "    print(i)\n",
    "\n",
    "print(\"--\"*25)\n",
    "for i in range(4,11):\n",
    "    print(i)\n",
    "\n",
    "for i in range(1, 11):\n",
    "    print(i/10)"
   ]
  },
  {
   "cell_type": "code",
   "execution_count": 14,
   "metadata": {},
   "outputs": [
    {
     "name": "stdout",
     "output_type": "stream",
     "text": [
      "0\n",
      "1\n",
      "2\n",
      "3\n",
      "4\n"
     ]
    }
   ],
   "source": [
    "# python defaults the start param to 0 and the step param to 1. \n",
    "# So, if we just wanted 0, 1, 2, 3, 4, we could simply write ...\n",
    "for i in range(5):\n",
    "    print(i)"
   ]
  },
  {
   "cell_type": "code",
   "execution_count": 34,
   "metadata": {},
   "outputs": [
    {
     "name": "stdout",
     "output_type": "stream",
     "text": [
      "1 1\n",
      "4 2\n",
      "9 3\n",
      "15 4\n",
      "24 5\n",
      "24\n"
     ]
    }
   ],
   "source": [
    "# While loops\n",
    "\n",
    "# suppose I have list of numbers ...\n",
    "list1 = [1, 3, 5, 6, 9, 10, 14, 16]\n",
    "\n",
    "# ... and I want to add up these numbers one-at-a-time, and stop at the first time this running cum_sum > 20\n",
    "\n",
    "# cum_sum is our running sum, i is the index we are accessing, starting at index 0.\n",
    "cum_sum = 0\n",
    "i = 0 \n",
    "\n",
    "# keep on adding numbers from our list, if cum_sum < 20\n",
    "while cum_sum < 20:\n",
    "    \n",
    "    # add the next term to our cum_sum\n",
    "    cum_sum += list1[i]\n",
    "    \n",
    "    # increment i\n",
    "    i += 1\n",
    "\n",
    "    print(cum_sum, i)\n",
    "    \n",
    "# let's see what our final sum is\n",
    "print(cum_sum) # should be 24"
   ]
  },
  {
   "cell_type": "code",
   "execution_count": 35,
   "metadata": {},
   "outputs": [
    {
     "name": "stdout",
     "output_type": "stream",
     "text": [
      "5\n"
     ]
    }
   ],
   "source": [
    "def sum(x,y):\n",
    "    return x+y\n",
    "\n",
    "print(sum(2,3))"
   ]
  },
  {
   "cell_type": "markdown",
   "metadata": {},
   "source": [
    "# Question 1 - Section"
   ]
  },
  {
   "cell_type": "markdown",
   "metadata": {},
   "source": [
    "### **Any Questions for me so far?**"
   ]
  },
  {
   "cell_type": "markdown",
   "metadata": {},
   "source": [
    "#### Lists\n",
    "\n",
    "Lists in Python is very similar to the one in C. Lists index starts from 0, and it can contain entries of multiple different datatypes!"
   ]
  },
  {
   "cell_type": "code",
   "execution_count": 38,
   "metadata": {},
   "outputs": [
    {
     "name": "stdout",
     "output_type": "stream",
     "text": [
      "Zad\n",
      "4\n",
      "['Zad', 'CS50', 3, 4, [100, 200, 300, 400], 'Add this string to the end of list1']\n",
      "['CS50', 3, 4, [100, 200, 300, 400], 'Add this string to the end of list1']\n",
      "5\n",
      "0\n",
      "['CS50', 3, 4, [100, 200, 300, 400], 'Add this string to the end of list1', 'Billy', 'Bob', 'Joe']\n",
      "Add this string to the end of list1\n",
      "CS50\n",
      "3\n",
      "4\n",
      "[100, 200, 300, 400]\n",
      "Add this string to the end of list1\n",
      "Billy\n",
      "Bob\n",
      "Joe\n"
     ]
    }
   ],
   "source": [
    "# we create a list as such - note the rigid braces (yes, the last entry of the list is/can be another list!)\n",
    "list1 = ['Zad', 'CS50', 3, 4, [100, 200, 300, 400]]\n",
    "\n",
    "# to access/index into a list, we use the square bracket notation\n",
    "print(list1[0]) # note that index 0 corresponds to the first entry in the list\n",
    "\n",
    "# the '-1' index refers to the LAST element in the list! '-2' corresponds to the 2nd-to-last, etc.\n",
    "print(list1[-2])\n",
    "\n",
    "# we can add an item to the END of our list as such\n",
    "list1.append(\"Add this string to the end of list1\")\n",
    "print(list1)\n",
    "\n",
    "# we can also remove elements from the list -- alternatively, we could do .remove(list1[0])\n",
    "list1.remove('Zad')\n",
    "print(list1)\n",
    "\n",
    "# to get the length of the list (i.e., the number of entries)\n",
    "print(len(list1))\n",
    "\n",
    "# tells us at which index the entry 'CS181' is located (note that 'Skyler' was deleted)\n",
    "print(list1.index('CS50'))\n",
    "\n",
    "# let's create another list\n",
    "list2 = ['Billy', 'Bob', 'Joe']\n",
    "\n",
    "# we can combine two lists together using the '+' operator\n",
    "list_big = list1 + list2\n",
    "print(list_big)\n",
    "\n",
    "print(list_big[4])\n",
    "\n",
    "for i in range(len(list_big)):\n",
    "    print(list_big[i])"
   ]
  },
  {
   "cell_type": "code",
   "execution_count": 42,
   "metadata": {},
   "outputs": [
    {
     "name": "stdout",
     "output_type": "stream",
     "text": [
      "{'Name': 'Zad', 'Favorite Numbers': [1, 2, 3, 4], 'Favorite Things': {'Food': 'Thai', 'Color': 'Blue'}}\n",
      "Zad\n",
      "{'Name': 'Zad', 'Favorite Numbers': [1, 2, 3, 4], 'Favorite Things': {'Food': 'Thai', 'Color': 'Blue'}, 'Favorite University': 'Harvard'}\n",
      "Thai\n",
      "{'Name': 'Zad', 'Favorite Things': {'Food': 'Thai', 'Color': 'Blue'}, 'Favorite University': 'Harvard'}\n",
      "dict_keys(['Name', 'Favorite Things', 'Favorite University'])\n",
      "['Zad', {'Food': 'Thai', 'Color': 'Blue'}, 'Harvard']\n"
     ]
    }
   ],
   "source": [
    "# creating a dictionary from scratch\n",
    "\n",
    "'''\n",
    "1. Notice how we use the curly brackets and the colons (indicating key-value pairs) and the commas (separating entries/pairs)\n",
    "2. Notice how the values in each key-value pair DO NOT have to be the same type! \n",
    "3. The dictionary below has values including a string, a list, AND another dictionary!\n",
    "4. 'Name', 'Favorite Numbers', and 'Favorite Things' are our keys. The things they map to are our values.\n",
    "'''\n",
    "\n",
    "myDict = {'Name': 'Zad', \n",
    "          'Favorite Numbers': [1,2,3,4], \n",
    "          'Favorite Things': {'Food': 'Thai', \n",
    "                              'Color': 'Blue'}}\n",
    "\n",
    "print(myDict)\n",
    "# accessing a dictionary - let's get my name.\n",
    "print(myDict['Name'])\n",
    "\n",
    "# writing an entry to a dictionary - let's add a new key-value pair to myDict\n",
    "myDict['Favorite University'] = 'Harvard'\n",
    "\n",
    "print(myDict)\n",
    "\n",
    "# what if we want to access a dictionary inside of a dictionary? Let's get my favorite food.\n",
    "print(myDict['Favorite Things']['Food']) # 'Thai'\n",
    "\n",
    "# removing element(s) from a dictionary - we remove the entire key-value pair, based on the key\n",
    "del myDict['Favorite Numbers']\n",
    "print(myDict) # just to check that 'Favorite Numbers' is gone\n",
    "\n",
    "# getting the keys of a dictionary - HOWEVER, 'keys' is a dict_keys object that's not easy to manipulate\n",
    "keys = myDict.keys()\n",
    "\n",
    "print(keys)\n",
    "\n",
    "# ... instead, we can convert dict_keys to a list\n",
    "keys = list(myDict.keys())\n",
    "\n",
    "# getting the values of a dictionary -- similarly, .values() returns a dict_values object that is not easy to manipulate.\n",
    "values = list(myDict.values())\n",
    "\n",
    "print(values)"
   ]
  },
  {
   "cell_type": "markdown",
   "metadata": {},
   "source": [
    "##### Upgradind lists: enumerate() and zip()"
   ]
  },
  {
   "cell_type": "code",
   "execution_count": 18,
   "metadata": {},
   "outputs": [
    {
     "name": "stdout",
     "output_type": "stream",
     "text": [
      "0 Apple\n",
      "1 Banana\n",
      "2 Can of Beans\n"
     ]
    }
   ],
   "source": [
    "# let's create a list\n",
    "list1 = ['Apple', 'Banana', 'Can of Beans']\n",
    "\n",
    "# the enumerate() makes our for-loop iterate over both the indices AND the values!\n",
    "for i, val in enumerate(list1):\n",
    "    \n",
    "    # 'i' represents the indice, and 'val' the actual element in the list.\n",
    "    print(i, val)"
   ]
  },
  {
   "cell_type": "code",
   "execution_count": 19,
   "metadata": {},
   "outputs": [
    {
     "name": "stdout",
     "output_type": "stream",
     "text": [
      "Apple Adam Levine A\n",
      "Banana Britney Spears B\n",
      "Can of Beans Ciara C\n",
      "[('Apple', 'Adam Levine', 'A'), ('Banana', 'Britney Spears', 'B'), ('Can of Beans', 'Ciara', 'C')]\n"
     ]
    }
   ],
   "source": [
    "list1 = ['Apple', 'Banana', 'Can of Beans']\n",
    "list2 = ['Adam Levine', 'Britney Spears', 'Ciara']\n",
    "list3 = ['A', 'B', 'C']\n",
    "\n",
    "# the zip() keyword lets us iterate over multiple lists in one pass.\n",
    "for food, singer, letter in zip(list1, list2, list3):\n",
    "    print(food, singer, letter)\n",
    "    \n",
    "# but what does zip(...) look like on its own? zip(...) by itself returns a not-so-workable object,\n",
    "# ... so I converted it to a list (a list of tuples to be specfic)\n",
    "print(list(zip(list1, list2, list3)))"
   ]
  },
  {
   "cell_type": "markdown",
   "metadata": {},
   "source": [
    "# Question 2 - Section"
   ]
  }
 ],
 "metadata": {
  "kernelspec": {
   "display_name": "Python 3.8.2 64-bit",
   "language": "python",
   "name": "python3"
  },
  "language_info": {
   "codemirror_mode": {
    "name": "ipython",
    "version": 3
   },
   "file_extension": ".py",
   "mimetype": "text/x-python",
   "name": "python",
   "nbconvert_exporter": "python",
   "pygments_lexer": "ipython3",
   "version": "3.8.2"
  },
  "orig_nbformat": 4,
  "vscode": {
   "interpreter": {
    "hash": "31f2aee4e71d21fbe5cf8b01ff0e069b9275f58929596ceb00d14d90e3e16cd6"
   }
  }
 },
 "nbformat": 4,
 "nbformat_minor": 2
}
